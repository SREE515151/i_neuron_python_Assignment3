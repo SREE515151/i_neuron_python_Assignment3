{
  "metadata": {
    "language_info": {
      "name": ""
    },
    "kernelspec": {
      "name": "python",
      "display_name": "Python (Pyodide)",
      "language": "python"
    }
  },
  "nbformat_minor": 4,
  "nbformat": 4,
  "cells": [
    {
      "cell_type": "markdown",
      "source": "1. Why are functions advantageous to have in your programs?",
      "metadata": {}
    },
    {
      "cell_type": "markdown",
      "source": "A) There are many advantages to using functions in Python. Here are a few:\n1.Functions make your code more modular and reusable, means that you can break your code up into smaller, more manageable pieces, and then reuse those pieces in other programs. This makes the code easier to read, understand, and maintain.\n2.Functions can help you to avoid duplication of code. \n3.Functions can help you to make your code more efficient and by defining a function to perform a specific task, you can avoid having to repeat the same code over and over again. This can make your code run faster and more efficiently.\n4.Functions can help you to improve the readability of your code.It can make it easier to debug your code and to fix problems.",
      "metadata": {}
    },
    {
      "cell_type": "code",
      "source": "",
      "metadata": {},
      "execution_count": null,
      "outputs": []
    },
    {
      "cell_type": "markdown",
      "source": "2. When does the code in a function run? when it's specified or when it's called?",
      "metadata": {}
    },
    {
      "cell_type": "markdown",
      "source": "A)The code in a function runs when it is called. This is because functions are not executed until they are called. When a function is called, the code inside the function is executed, and then the function returns.",
      "metadata": {}
    },
    {
      "cell_type": "code",
      "source": "",
      "metadata": {},
      "execution_count": null,
      "outputs": []
    },
    {
      "cell_type": "markdown",
      "source": "3. What statement creates a function?",
      "metadata": {}
    },
    {
      "cell_type": "markdown",
      "source": "A) The statement 'def function_name(parameters)' creates a function in Python. The 'function_name' is the name of the function, and the 'parameters' are the arguments that the function takes. The code inside the function is executed when the function is called.",
      "metadata": {}
    },
    {
      "cell_type": "code",
      "source": "",
      "metadata": {},
      "execution_count": null,
      "outputs": []
    },
    {
      "cell_type": "markdown",
      "source": "4. What is the difference between a function and a function call?",
      "metadata": {}
    },
    {
      "cell_type": "markdown",
      "source": "A) A function is a block of code that is executed when it is called. A function call is the act of executing a function. Example, the following code defines a function called add_two_numbers() and then calls the function:\n\ndef add_two_numbers(a, b):\n    return a + b\nprint(add_two_numbers(1, 2))\n\nIn this example, the function `add_two_numbers()` takes two arguments, `a` and `b`, and returns the sum of those two numbers. The function call `add_two_numbers(1, 2)` executes the function and prints the result, which is 3.",
      "metadata": {}
    },
    {
      "cell_type": "code",
      "source": "",
      "metadata": {},
      "execution_count": null,
      "outputs": []
    },
    {
      "cell_type": "markdown",
      "source": "5. How many global scopes are there in a Python program? How many local scopes?",
      "metadata": {}
    },
    {
      "cell_type": "markdown",
      "source": "A) There is only one global scope in a Python program. This is the scope that contains all of the variables that are defined outside of any function or class. Local scopes are created when a function or class is defined. The local scope contains all of the variables that are defined within the function or class.",
      "metadata": {}
    },
    {
      "cell_type": "code",
      "source": "",
      "metadata": {},
      "execution_count": null,
      "outputs": []
    },
    {
      "cell_type": "markdown",
      "source": "6. What happens to variables in a local scope when the function call returns?",
      "metadata": {}
    },
    {
      "cell_type": "markdown",
      "source": "A) When a function call returns, the local variables that were created in the function are destroyed. This is because local variables are only accessible within the function that created them.",
      "metadata": {}
    },
    {
      "cell_type": "code",
      "source": "",
      "metadata": {},
      "execution_count": null,
      "outputs": []
    },
    {
      "cell_type": "markdown",
      "source": "7. What is the concept of a return value? Is it possible to have a return value in an expression?",
      "metadata": {}
    },
    {
      "cell_type": "markdown",
      "source": "A) A return value is the value that is returned by a function when it is finished executing. The return value can be any type of value, including a number, a string, a list, or a dictionary.\nIt is possible to have a return value in an expression. For example, the following expression returns the value of the `add_two_numbers()` function:\nreturn_value = add_two_numbers(1, 2)\nThe `return_value` variable will then contain the value of the `add_two_numbers()` function, which is 3.",
      "metadata": {}
    },
    {
      "cell_type": "code",
      "source": "",
      "metadata": {},
      "execution_count": null,
      "outputs": []
    },
    {
      "cell_type": "markdown",
      "source": "8. If a function does not have a return statement, what is the return value of a call to that function?",
      "metadata": {}
    },
    {
      "cell_type": "markdown",
      "source": "A) If a function does not have a return statement, the return value of the function is `None`.",
      "metadata": {}
    },
    {
      "cell_type": "code",
      "source": "",
      "metadata": {},
      "execution_count": null,
      "outputs": []
    },
    {
      "cell_type": "markdown",
      "source": "9. How do you make a function variable refer to the global variable?",
      "metadata": {}
    },
    {
      "cell_type": "markdown",
      "source": "A) To make a function variable refer to the global variable, you can use the `global` keyword. Example, the following code defines a function called `add_two_numbers()` that takes two numbers as arguments and returns their sum. The function also uses the `global` keyword to make the `total` variable refer to the global variable `total`.\n\ntotal = 0\ndef add_two_numbers(a, b):\n    global total\n    total = total + a + b\n    return total\nprint(add_two_numbers(1, 2))\n\nWhen the `add_two_numbers()` function is called, the `total` variable is incremented by the sum of the two numbers. The `total` variable is then returned by the function.\n",
      "metadata": {}
    },
    {
      "cell_type": "code",
      "source": "",
      "metadata": {},
      "execution_count": null,
      "outputs": []
    },
    {
      "cell_type": "markdown",
      "source": "10.What is the data type of None?",
      "metadata": {}
    },
    {
      "cell_type": "markdown",
      "source": "A) The data type of None in Python is `NoneType`.",
      "metadata": {}
    },
    {
      "cell_type": "code",
      "source": "",
      "metadata": {},
      "execution_count": null,
      "outputs": []
    },
    {
      "cell_type": "markdown",
      "source": "11. What does the sentence import areallyourpetsnamederic do?",
      "metadata": {}
    },
    {
      "cell_type": "markdown",
      "source": "A) `import areallyourpetsnamederic` imports the `areallyourpetsnamederic` module into the current namespace. This means that you can access the functions and variables defined in the `areallyourpetsnamederic` module without having to explicitly import it.\n\nExample, if you have a function called `are_all_your_pets_named_eric()` defined in the `areallyourpetsnamederic` module, you can call it from your code using the following syntax:\n\nfrom areallyourpetsnamederic import are_all_your_pets_named_eric\nare_all_your_pets_named_eric()",
      "metadata": {}
    },
    {
      "cell_type": "code",
      "source": "",
      "metadata": {},
      "execution_count": null,
      "outputs": []
    },
    {
      "cell_type": "markdown",
      "source": "12. If you had a bacon() feature in a spam module, what would you call it after importing spam?",
      "metadata": {}
    },
    {
      "cell_type": "markdown",
      "source": "A) To call the `bacon()` feature in the `spam` module, you would use the following syntax:\nspam.bacon()",
      "metadata": {}
    },
    {
      "cell_type": "code",
      "source": "",
      "metadata": {},
      "execution_count": null,
      "outputs": []
    },
    {
      "cell_type": "markdown",
      "source": "13. What can you do to save a programme from crashing if it encounters an error?",
      "metadata": {}
    },
    {
      "cell_type": "markdown",
      "source": "A)To save a program from crashing if it encounters an error:\n1.Use try-except blocks. A try-except block allows you to catch errors and handle them in a specific way. \n2.Use the `logging` module. The `logging` module allows you to log errors to a file or to the console. \n3.Use the `traceback` module. The `traceback` module allows you to print a stack trace of the errors that occurred. This can help you identify the source of the error.",
      "metadata": {}
    },
    {
      "cell_type": "code",
      "source": "",
      "metadata": {},
      "execution_count": null,
      "outputs": []
    },
    {
      "cell_type": "markdown",
      "source": "14. What is the purpose of the try clause? What is the purpose of the except clause?",
      "metadata": {}
    },
    {
      "cell_type": "markdown",
      "source": "A) The try clause is used to execute a block of code. If an error occurs in the try block, the except clause is executed. The except clause can be used to handle the error in a specific way. Example, the following code tries to open a file called \"myfile.txt\". If the file does not exist, the except clause will print an error message.\n\ntry:\n    with open(\"myfile.txt\") as f:\n        print(f.read())\nexcept FileNotFoundError:\n    print(\"File not found\")\n    \n    ",
      "metadata": {}
    },
    {
      "cell_type": "code",
      "source": "",
      "metadata": {},
      "execution_count": null,
      "outputs": []
    }
  ]
}